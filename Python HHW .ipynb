{
 "cells": [
  {
   "cell_type": "markdown",
   "metadata": {},
   "source": [
    "# Area and Perimeter of Rectangle"
   ]
  },
  {
   "cell_type": "code",
   "execution_count": 1,
   "metadata": {
    "scrolled": true
   },
   "outputs": [
    {
     "name": "stdout",
     "output_type": "stream",
     "text": [
      "Enter the length:4\n",
      "Enter the breadth:6\n",
      "Area of rectangle is  24\n",
      "Perimeter of the rectangle is  20\n"
     ]
    }
   ],
   "source": [
    "a=int(input(\"Enter the length:\"))\n",
    "b=int(input(\"Enter the breadth:\"))\n",
    "area=a*b\n",
    "perimeter=2*(a+b)\n",
    "print(\"Area of rectangle is \",area)\n",
    "print(\"Perimeter of the rectangle is \",perimeter)"
   ]
  },
  {
   "cell_type": "markdown",
   "metadata": {},
   "source": [
    "# Area and Circumference of Circle"
   ]
  },
  {
   "cell_type": "raw",
   "metadata": {},
   "source": []
  },
  {
   "cell_type": "code",
   "execution_count": 3,
   "metadata": {},
   "outputs": [
    {
     "name": "stdout",
     "output_type": "stream",
     "text": [
      "Enter the radius 7\n",
      "Area of circle is  153.86\n",
      "Perimeter of circle is  43.96\n"
     ]
    }
   ],
   "source": [
    "q=int(input(\"Enter the radius \"))\n",
    "p=3.14\n",
    "area=p*q**2\n",
    "perimeter=2*p*q\n",
    "print(\"Area of circle is \",area)\n",
    "print(\"Perimeter of circle is \",perimeter)"
   ]
  },
  {
   "cell_type": "markdown",
   "metadata": {},
   "source": [
    "# Sum,Difference,Quotient and Remainder of Two Numbers"
   ]
  },
  {
   "cell_type": "code",
   "execution_count": 6,
   "metadata": {},
   "outputs": [
    {
     "name": "stdout",
     "output_type": "stream",
     "text": [
      "Enter first number 5\n",
      "Enter second number 6\n",
      "Sum of numbers is 11\n",
      "Difference of numbers is  -1\n",
      "Remainder of numbers is 5\n",
      "Quotient of numbers is  0\n"
     ]
    }
   ],
   "source": [
    "import time\n",
    "n=int(input(\"Enter first number \"))\n",
    "m=int(input(\"Enter second number \"))\n",
    "sum=n+m\n",
    "difference=n-m\n",
    "remainder=n%m\n",
    "quotient=n//m\n",
    "time.sleep(1)\n",
    "print(\"Sum of numbers is\" ,sum)\n",
    "time.sleep(1)\n",
    "print(\"Difference of numbers is \",difference)\n",
    "time.sleep(1)\n",
    "print(\"Remainder of numbers is\",remainder)\n",
    "time.sleep(1)\n",
    "print(\"Quotient of numbers is \",quotient)"
   ]
  },
  {
   "cell_type": "markdown",
   "metadata": {},
   "source": [
    "# Output of (Even Odd Programme)"
   ]
  },
  {
   "cell_type": "code",
   "execution_count": 7,
   "metadata": {},
   "outputs": [
    {
     "name": "stdout",
     "output_type": "stream",
     "text": [
      "Please Enter a Number:3\n",
      "This Number is Odd\n"
     ]
    }
   ],
   "source": [
    "a=int(input(\"Please Enter a Number:\"))\n",
    "if(a%2==0):\n",
    "        print(\"This Number is Even\")\n",
    "else:\n",
    "        print(\"This Number is Odd\")"
   ]
  },
  {
   "cell_type": "code",
   "execution_count": null,
   "metadata": {},
   "outputs": [],
   "source": []
  }
 ],
 "metadata": {
  "kernelspec": {
   "display_name": "Python 3",
   "language": "python",
   "name": "python3"
  },
  "language_info": {
   "codemirror_mode": {
    "name": "ipython",
    "version": 3
   },
   "file_extension": ".py",
   "mimetype": "text/x-python",
   "name": "python",
   "nbconvert_exporter": "python",
   "pygments_lexer": "ipython3",
   "version": "3.7.6"
  }
 },
 "nbformat": 4,
 "nbformat_minor": 4
}
